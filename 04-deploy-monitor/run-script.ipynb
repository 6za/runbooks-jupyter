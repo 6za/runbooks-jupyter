{
 "cells": [
  {
   "cell_type": "markdown",
   "metadata": {},
   "source": [
    "## Deploy Monitor\n",
    "\n",
    "- get monitor project for arm(rapsberry pi) - https://github.com/6za/node-exporter-collectors\n",
    "- deploy on all nodes - `docker-compose`\n",
    "- `curl` to check connection"
   ]
  },
  {
   "cell_type": "markdown",
   "metadata": {},
   "source": [
    "### Get Project \n",
    "\n",
    "Get [6za/node-exporter-collectors](https://github.com/6za/node-exporter-collectors) to deploy on nodes.\n"
   ]
  },
  {
   "cell_type": "code",
   "execution_count": 112,
   "metadata": {},
   "outputs": [
    {
     "name": "stderr",
     "output_type": "stream",
     "text": [
      "mkdir: cannot create directory '/root/repos': File exists\n",
      "Cloning into 'node-exporter-collectors'...\n"
     ]
    }
   ],
   "source": [
    "%%bash\n",
    "\n",
    "mkdir ~/repos\n",
    "cd ~/repos\n",
    "#rm -rf ~/repos/node-exporter-collectors\n",
    "git clone https://github.com/6za/node-exporter-collectors.git"
   ]
  },
  {
   "cell_type": "markdown",
   "metadata": {},
   "source": [
    "### Deploying on ARM\n",
    "\n",
    "On Arm, there is extra monitor as part of the image to collect temperature from some sensors.\n",
    "\n",
    "\n",
    "Details at: [6za/prometheus-raspberry-exporter](https://github.com/6za/prometheus-raspberry-exporter)\n",
    "\n",
    "The images in use on `raspberry pi` are done using: [6za/pi-gen-vagrant](https://github.com/6za/pi-gen-vagrant)\n",
    "\n",
    "And customized with: [6za/pi-gen](https://github.com/6za/pi-gen)\n",
    "\n",
    "\n",
    "We will:\n",
    " - List from all hosts the ones based on `raspberry pi` and arch `armv7l`\n",
    " - deploy the arm version of the `node-exporter`\n",
    " - check the deployed containers"
   ]
  },
  {
   "cell_type": "code",
   "execution_count": 140,
   "metadata": {},
   "outputs": [],
   "source": [
    "import pandas as pd\n",
    "hosts = pd.read_csv(\"../common/hosts.csv\")\n",
    "supressed_columns = ['ip','user']\n",
    "select_hosts = hosts[(hosts.user == \"pi\") & (hosts.arch == \"armv7l\")]\n",
    "select_hosts['ip'].to_csv(r'arm-ip.txt', header=False, index=None, sep=' ')\n",
    "select_hosts.drop(columns=supressed_columns)\n",
    "hosts['ip'].to_csv(r'ip.txt', header=False, index=None, sep=' ')"
   ]
  },
  {
   "cell_type": "code",
   "execution_count": 141,
   "metadata": {},
   "outputs": [
    {
     "name": "stdout",
     "output_type": "stream",
     "text": [
      "/root/04-deploy-monitor\n"
     ]
    }
   ],
   "source": [
    "%%bash\n",
    "export HOME_DIR=$PWD\n",
    "echo $HOME_DIR\n",
    "source ../common/env.sh \n",
    "while read ip; do\n",
    "    cd ~/repos/node-exporter-collectors\n",
    "    export DOCKER_HOST=\"tcp://$ip:2376\"\n",
    "    docker-compose -f docker-compose-raspi3.yaml down 2>/dev/null\n",
    "    docker-compose -f docker-compose-raspi3.yaml up -d 2>/dev/null\n",
    "done <arm-ip.txt\n",
    "cd $HOME_DIR"
   ]
  },
  {
   "cell_type": "markdown",
   "metadata": {},
   "source": [
    "### Deploy x86\n",
    "\n"
   ]
  },
  {
   "cell_type": "code",
   "execution_count": 142,
   "metadata": {},
   "outputs": [],
   "source": [
    "hosts[(hosts.arch == \"x86_64\")]['ip'].to_csv(r'i86-ip.txt', header=False, index=None, sep=' ')"
   ]
  },
  {
   "cell_type": "code",
   "execution_count": 143,
   "metadata": {},
   "outputs": [
    {
     "name": "stdout",
     "output_type": "stream",
     "text": [
      "/root/04-deploy-monitor\n",
      "nodeexporter\n",
      "nodeexporter\n",
      "nodeexporter\n",
      "nodeexporter\n",
      "nodeexporter\n",
      "nodeexporter\n",
      "nodeexporter\n",
      "nodeexporter\n"
     ]
    }
   ],
   "source": [
    "%%bash\n",
    "export HOME_DIR=$PWD\n",
    "echo $HOME_DIR\n",
    "source ../common/env.sh \n",
    "while read ip; do\n",
    "    cd ~/repos/node-exporter-collectors\n",
    "    export DOCKER_HOST=\"tcp://$ip:2376\"\n",
    "    docker stop nodeexporter  2>/dev/null\n",
    "    docker stop monitor_tempsensor_1  2>/dev/null\n",
    "    docker rm nodeexporter     2>/dev/null\n",
    "    docker rm monitor_tempsensor_1  2>/dev/null\n",
    "    docker-compose -f docker-compose-x86.yaml down 2>/dev/null\n",
    "    docker-compose -f docker-compose-x86.yaml up -d 2>/dev/null\n",
    "done <i86-ip.txt\n",
    "cd $HOME_DIR"
   ]
  },
  {
   "cell_type": "markdown",
   "metadata": {},
   "source": [
    "### Deploy Tegra(nvidia jetson)"
   ]
  },
  {
   "cell_type": "code",
   "execution_count": 144,
   "metadata": {},
   "outputs": [],
   "source": [
    "hosts[(hosts.arch == \"aarch64\")]['ip'].to_csv(r'aarch64-ip.txt', header=False, index=None, sep=' ')"
   ]
  },
  {
   "cell_type": "code",
   "execution_count": 145,
   "metadata": {},
   "outputs": [
    {
     "name": "stdout",
     "output_type": "stream",
     "text": [
      "/root/04-deploy-monitor\n",
      "nodeexporter\n",
      "nodeexporter\n"
     ]
    }
   ],
   "source": [
    "%%bash\n",
    "export HOME_DIR=$PWD\n",
    "echo $HOME_DIR\n",
    "source ../common/env.sh \n",
    "while read ip; do\n",
    "    cd ~/repos/node-exporter-collectors\n",
    "    export DOCKER_HOST=\"tcp://$ip:2376\"\n",
    "    docker stop nodeexporter  2>/dev/null\n",
    "    docker rm nodeexporter   2>/dev/null  \n",
    "    docker-compose -f docker-compose-jetson.yaml down 2>/dev/null\n",
    "    docker-compose -f docker-compose-jetson.yaml up -d 2>/dev/null\n",
    "done <aarch64-ip.txt\n",
    "cd $HOME_DIR"
   ]
  },
  {
   "cell_type": "markdown",
   "metadata": {},
   "source": [
    "### Validade Deploy\n",
    "\n",
    "- `docker ps` all nodes\n",
    "- `curl` all nodes"
   ]
  },
  {
   "cell_type": "code",
   "execution_count": 146,
   "metadata": {},
   "outputs": [],
   "source": [
    "%%bash\n",
    "echo \"ip|id|image|ports|runnning\" > containers.csv\n",
    "source ../common/env.sh \n",
    "while read ip; do\n",
    "    export DOCKER_HOST=\"tcp://$ip:2376\"\n",
    "    docker ps --filter \"name=nodeexporter\"  --format \"$ip|{{.ID}}|{{.Image}}|{{.Ports}}|{{.RunningFor}}\"  >> containers.csv 2>/dev/null || :\n",
    "done <ip.txt    "
   ]
  },
  {
   "cell_type": "code",
   "execution_count": 147,
   "metadata": {},
   "outputs": [
    {
     "data": {
      "text/html": [
       "<div>\n",
       "<style scoped>\n",
       "    .dataframe tbody tr th:only-of-type {\n",
       "        vertical-align: middle;\n",
       "    }\n",
       "\n",
       "    .dataframe tbody tr th {\n",
       "        vertical-align: top;\n",
       "    }\n",
       "\n",
       "    .dataframe thead th {\n",
       "        text-align: right;\n",
       "    }\n",
       "</style>\n",
       "<table border=\"1\" class=\"dataframe\">\n",
       "  <thead>\n",
       "    <tr style=\"text-align: right;\">\n",
       "      <th></th>\n",
       "      <th>id</th>\n",
       "      <th>image</th>\n",
       "      <th>ports</th>\n",
       "      <th>runnning</th>\n",
       "      <th>hostname</th>\n",
       "      <th>arch</th>\n",
       "    </tr>\n",
       "  </thead>\n",
       "  <tbody>\n",
       "    <tr>\n",
       "      <th>0</th>\n",
       "      <td>fb1114ef5ff5</td>\n",
       "      <td>prom/node-exporter:v0.18.0</td>\n",
       "      <td>0.0.0.0:9100-&gt;9100/tcp</td>\n",
       "      <td>About a minute ago</td>\n",
       "      <td>pi-node2</td>\n",
       "      <td>armv7l</td>\n",
       "    </tr>\n",
       "    <tr>\n",
       "      <th>1</th>\n",
       "      <td>fbdf7410748b</td>\n",
       "      <td>prom/node-exporter:v0.18.0</td>\n",
       "      <td>0.0.0.0:9100-&gt;9100/tcp</td>\n",
       "      <td>About a minute ago</td>\n",
       "      <td>pi-node3</td>\n",
       "      <td>armv7l</td>\n",
       "    </tr>\n",
       "    <tr>\n",
       "      <th>2</th>\n",
       "      <td>c5c1b27b0828</td>\n",
       "      <td>prom/node-exporter:v0.18.0</td>\n",
       "      <td>0.0.0.0:9100-&gt;9100/tcp</td>\n",
       "      <td>34 seconds ago</td>\n",
       "      <td>kx-Lenovo-H520g</td>\n",
       "      <td>x86_64</td>\n",
       "    </tr>\n",
       "    <tr>\n",
       "      <th>3</th>\n",
       "      <td>bfb8d0b8a9fa</td>\n",
       "      <td>prom/node-exporter:v0.18.0</td>\n",
       "      <td>0.0.0.0:9100-&gt;9100/tcp</td>\n",
       "      <td>29 seconds ago</td>\n",
       "      <td>nuc-01</td>\n",
       "      <td>x86_64</td>\n",
       "    </tr>\n",
       "    <tr>\n",
       "      <th>4</th>\n",
       "      <td>b2424bf443eb</td>\n",
       "      <td>prom/node-exporter:v0.18.0</td>\n",
       "      <td>0.0.0.0:9100-&gt;9100/tcp</td>\n",
       "      <td>24 seconds ago</td>\n",
       "      <td>nuc-02</td>\n",
       "      <td>x86_64</td>\n",
       "    </tr>\n",
       "    <tr>\n",
       "      <th>5</th>\n",
       "      <td>f941a7dc93e0</td>\n",
       "      <td>prom/node-exporter:v0.18.0</td>\n",
       "      <td>0.0.0.0:9100-&gt;9100/tcp</td>\n",
       "      <td>19 seconds ago</td>\n",
       "      <td>nuc-03</td>\n",
       "      <td>x86_64</td>\n",
       "    </tr>\n",
       "    <tr>\n",
       "      <th>6</th>\n",
       "      <td>5dc6b94328d9</td>\n",
       "      <td>prom/node-exporter:v0.18.0</td>\n",
       "      <td>0.0.0.0:9100-&gt;9100/tcp</td>\n",
       "      <td>About a minute ago</td>\n",
       "      <td>pi-node4</td>\n",
       "      <td>armv7l</td>\n",
       "    </tr>\n",
       "    <tr>\n",
       "      <th>7</th>\n",
       "      <td>ce4abe4927a6</td>\n",
       "      <td>prom/node-exporter:v0.18.0</td>\n",
       "      <td>0.0.0.0:9100-&gt;9100/tcp</td>\n",
       "      <td>About a minute ago</td>\n",
       "      <td>pi-node5</td>\n",
       "      <td>armv7l</td>\n",
       "    </tr>\n",
       "    <tr>\n",
       "      <th>8</th>\n",
       "      <td>f94621b76cf6</td>\n",
       "      <td>prom/node-exporter:v0.18.0</td>\n",
       "      <td>0.0.0.0:9100-&gt;9100/tcp</td>\n",
       "      <td>58 seconds ago</td>\n",
       "      <td>pi-node7</td>\n",
       "      <td>armv7l</td>\n",
       "    </tr>\n",
       "    <tr>\n",
       "      <th>9</th>\n",
       "      <td>e9fbb0da5d92</td>\n",
       "      <td>prom/node-exporter:v0.18.0</td>\n",
       "      <td>0.0.0.0:9100-&gt;9100/tcp</td>\n",
       "      <td>50 seconds ago</td>\n",
       "      <td>pi-node8</td>\n",
       "      <td>armv7l</td>\n",
       "    </tr>\n",
       "    <tr>\n",
       "      <th>10</th>\n",
       "      <td>efa14eba789c</td>\n",
       "      <td>prom/node-exporter:v0.18.0</td>\n",
       "      <td>0.0.0.0:9100-&gt;9100/tcp</td>\n",
       "      <td>23 seconds ago</td>\n",
       "      <td>tegra-ubuntu</td>\n",
       "      <td>aarch64</td>\n",
       "    </tr>\n",
       "  </tbody>\n",
       "</table>\n",
       "</div>"
      ],
      "text/plain": [
       "              id                       image                   ports  \\\n",
       "0   fb1114ef5ff5  prom/node-exporter:v0.18.0  0.0.0.0:9100->9100/tcp   \n",
       "1   fbdf7410748b  prom/node-exporter:v0.18.0  0.0.0.0:9100->9100/tcp   \n",
       "2   c5c1b27b0828  prom/node-exporter:v0.18.0  0.0.0.0:9100->9100/tcp   \n",
       "3   bfb8d0b8a9fa  prom/node-exporter:v0.18.0  0.0.0.0:9100->9100/tcp   \n",
       "4   b2424bf443eb  prom/node-exporter:v0.18.0  0.0.0.0:9100->9100/tcp   \n",
       "5   f941a7dc93e0  prom/node-exporter:v0.18.0  0.0.0.0:9100->9100/tcp   \n",
       "6   5dc6b94328d9  prom/node-exporter:v0.18.0  0.0.0.0:9100->9100/tcp   \n",
       "7   ce4abe4927a6  prom/node-exporter:v0.18.0  0.0.0.0:9100->9100/tcp   \n",
       "8   f94621b76cf6  prom/node-exporter:v0.18.0  0.0.0.0:9100->9100/tcp   \n",
       "9   e9fbb0da5d92  prom/node-exporter:v0.18.0  0.0.0.0:9100->9100/tcp   \n",
       "10  efa14eba789c  prom/node-exporter:v0.18.0  0.0.0.0:9100->9100/tcp   \n",
       "\n",
       "              runnning         hostname     arch  \n",
       "0   About a minute ago         pi-node2   armv7l  \n",
       "1   About a minute ago         pi-node3   armv7l  \n",
       "2       34 seconds ago  kx-Lenovo-H520g   x86_64  \n",
       "3       29 seconds ago           nuc-01   x86_64  \n",
       "4       24 seconds ago           nuc-02   x86_64  \n",
       "5       19 seconds ago           nuc-03   x86_64  \n",
       "6   About a minute ago         pi-node4   armv7l  \n",
       "7   About a minute ago         pi-node5   armv7l  \n",
       "8       58 seconds ago         pi-node7   armv7l  \n",
       "9       50 seconds ago         pi-node8   armv7l  \n",
       "10      23 seconds ago     tegra-ubuntu  aarch64  "
      ]
     },
     "execution_count": 147,
     "metadata": {},
     "output_type": "execute_result"
    }
   ],
   "source": [
    "containers = pd.read_csv(\"containers.csv\", sep = '|')\n",
    "pd.merge(containers, hosts, on='ip', how='inner').drop(columns=supressed_columns)"
   ]
  },
  {
   "cell_type": "code",
   "execution_count": 148,
   "metadata": {},
   "outputs": [],
   "source": [
    "%%bash\n",
    "echo \"ip,result\" > node-exporters.csv\n",
    "while read ip; do\n",
    "    echo \"$ip,`curl --connect-timeout 10 -o /dev/null -s -w \"%{http_code}\\n\" http://$ip:9100`\"  >> node-exporters.csv\n",
    "done <ip.txt   "
   ]
  },
  {
   "cell_type": "code",
   "execution_count": 149,
   "metadata": {},
   "outputs": [
    {
     "data": {
      "text/html": [
       "<div>\n",
       "<style scoped>\n",
       "    .dataframe tbody tr th:only-of-type {\n",
       "        vertical-align: middle;\n",
       "    }\n",
       "\n",
       "    .dataframe tbody tr th {\n",
       "        vertical-align: top;\n",
       "    }\n",
       "\n",
       "    .dataframe thead th {\n",
       "        text-align: right;\n",
       "    }\n",
       "</style>\n",
       "<table border=\"1\" class=\"dataframe\">\n",
       "  <thead>\n",
       "    <tr style=\"text-align: right;\">\n",
       "      <th></th>\n",
       "      <th>result</th>\n",
       "      <th>hostname</th>\n",
       "      <th>arch</th>\n",
       "    </tr>\n",
       "  </thead>\n",
       "  <tbody>\n",
       "    <tr>\n",
       "      <th>0</th>\n",
       "      <td>0</td>\n",
       "      <td>pi-node1</td>\n",
       "      <td>unknown</td>\n",
       "    </tr>\n",
       "    <tr>\n",
       "      <th>1</th>\n",
       "      <td>200</td>\n",
       "      <td>pi-node2</td>\n",
       "      <td>armv7l</td>\n",
       "    </tr>\n",
       "    <tr>\n",
       "      <th>2</th>\n",
       "      <td>200</td>\n",
       "      <td>pi-node3</td>\n",
       "      <td>armv7l</td>\n",
       "    </tr>\n",
       "    <tr>\n",
       "      <th>3</th>\n",
       "      <td>200</td>\n",
       "      <td>kx-Lenovo-H520g</td>\n",
       "      <td>x86_64</td>\n",
       "    </tr>\n",
       "    <tr>\n",
       "      <th>4</th>\n",
       "      <td>200</td>\n",
       "      <td>nuc-01</td>\n",
       "      <td>x86_64</td>\n",
       "    </tr>\n",
       "    <tr>\n",
       "      <th>5</th>\n",
       "      <td>200</td>\n",
       "      <td>nuc-02</td>\n",
       "      <td>x86_64</td>\n",
       "    </tr>\n",
       "    <tr>\n",
       "      <th>6</th>\n",
       "      <td>200</td>\n",
       "      <td>nuc-03</td>\n",
       "      <td>x86_64</td>\n",
       "    </tr>\n",
       "    <tr>\n",
       "      <th>7</th>\n",
       "      <td>200</td>\n",
       "      <td>pi-node4</td>\n",
       "      <td>armv7l</td>\n",
       "    </tr>\n",
       "    <tr>\n",
       "      <th>8</th>\n",
       "      <td>200</td>\n",
       "      <td>pi-node5</td>\n",
       "      <td>armv7l</td>\n",
       "    </tr>\n",
       "    <tr>\n",
       "      <th>9</th>\n",
       "      <td>0</td>\n",
       "      <td>pi-node6</td>\n",
       "      <td>armv7l</td>\n",
       "    </tr>\n",
       "    <tr>\n",
       "      <th>10</th>\n",
       "      <td>200</td>\n",
       "      <td>pi-node7</td>\n",
       "      <td>armv7l</td>\n",
       "    </tr>\n",
       "    <tr>\n",
       "      <th>11</th>\n",
       "      <td>200</td>\n",
       "      <td>pi-node8</td>\n",
       "      <td>armv7l</td>\n",
       "    </tr>\n",
       "    <tr>\n",
       "      <th>12</th>\n",
       "      <td>200</td>\n",
       "      <td>tegra-ubuntu</td>\n",
       "      <td>aarch64</td>\n",
       "    </tr>\n",
       "  </tbody>\n",
       "</table>\n",
       "</div>"
      ],
      "text/plain": [
       "    result         hostname     arch\n",
       "0        0         pi-node1  unknown\n",
       "1      200         pi-node2   armv7l\n",
       "2      200         pi-node3   armv7l\n",
       "3      200  kx-Lenovo-H520g   x86_64\n",
       "4      200           nuc-01   x86_64\n",
       "5      200           nuc-02   x86_64\n",
       "6      200           nuc-03   x86_64\n",
       "7      200         pi-node4   armv7l\n",
       "8      200         pi-node5   armv7l\n",
       "9        0         pi-node6   armv7l\n",
       "10     200         pi-node7   armv7l\n",
       "11     200         pi-node8   armv7l\n",
       "12     200     tegra-ubuntu  aarch64"
      ]
     },
     "execution_count": 149,
     "metadata": {},
     "output_type": "execute_result"
    }
   ],
   "source": [
    "containers = pd.read_csv(\"node-exporters.csv\", sep = ',')\n",
    "pd.merge(containers, hosts, on='ip', how='inner').drop(columns=supressed_columns)"
   ]
  },
  {
   "cell_type": "markdown",
   "metadata": {},
   "source": [
    "Observe that some hosts are not `200`, because this are not active servers at this tests. "
   ]
  }
 ],
 "metadata": {
  "kernelspec": {
   "display_name": "Python 3",
   "language": "python",
   "name": "python3"
  },
  "language_info": {
   "codemirror_mode": {
    "name": "ipython",
    "version": 3
   },
   "file_extension": ".py",
   "mimetype": "text/x-python",
   "name": "python",
   "nbconvert_exporter": "python",
   "pygments_lexer": "ipython3",
   "version": "3.6.9"
  }
 },
 "nbformat": 4,
 "nbformat_minor": 4
}
