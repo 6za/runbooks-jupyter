{
 "cells": [
  {
   "cell_type": "markdown",
   "metadata": {},
   "source": [
    "# Overview\n",
    "\n",
    "A Kafka cluster with 1 zk and 2 kafka brokers\n",
    "\n",
    "\n",
    "The solution is based on the docker-compose files at [6za/kafka](https://github.com/6za/kafka).\n",
    "\n",
    "The files are enhanced by setup to add network to allow this solution to work over multiple docker hosts without meshing them into a single virtual network. \n",
    "\n",
    "This setup is using raspberry servers"
   ]
  },
  {
   "cell_type": "code",
   "execution_count": 1,
   "metadata": {},
   "outputs": [],
   "source": [
    "import pandas as pd\n",
    "import yaml\n",
    "import os\n",
    "import subprocess"
   ]
  },
  {
   "cell_type": "markdown",
   "metadata": {},
   "source": [
    "## Nodes\n",
    "- Zookeeper Node\n",
    "- Kafka Node"
   ]
  },
  {
   "cell_type": "code",
   "execution_count": 2,
   "metadata": {},
   "outputs": [],
   "source": [
    "hosts = pd.read_csv(\"../common/hosts.csv\")\n",
    "supressed_columns = ['ip','user']\n",
    "raspi_zk_hosts = hosts[(hosts.hostname == \"pi-node251\")]\n",
    "raspi_kafka_hosts = hosts[(hosts.hostname == \"pi-node250\") | (hosts.hostname == \"pi-node249\") ]"
   ]
  },
  {
   "cell_type": "code",
   "execution_count": 3,
   "metadata": {},
   "outputs": [
    {
     "data": {
      "text/html": [
       "<div>\n",
       "<style scoped>\n",
       "    .dataframe tbody tr th:only-of-type {\n",
       "        vertical-align: middle;\n",
       "    }\n",
       "\n",
       "    .dataframe tbody tr th {\n",
       "        vertical-align: top;\n",
       "    }\n",
       "\n",
       "    .dataframe thead th {\n",
       "        text-align: right;\n",
       "    }\n",
       "</style>\n",
       "<table border=\"1\" class=\"dataframe\">\n",
       "  <thead>\n",
       "    <tr style=\"text-align: right;\">\n",
       "      <th></th>\n",
       "      <th>hostname</th>\n",
       "      <th>arch</th>\n",
       "      <th>gpu</th>\n",
       "    </tr>\n",
       "  </thead>\n",
       "  <tbody>\n",
       "    <tr>\n",
       "      <th>15</th>\n",
       "      <td>pi-node251</td>\n",
       "      <td>armv7l</td>\n",
       "      <td>0</td>\n",
       "    </tr>\n",
       "  </tbody>\n",
       "</table>\n",
       "</div>"
      ],
      "text/plain": [
       "      hostname    arch  gpu\n",
       "15  pi-node251  armv7l    0"
      ]
     },
     "execution_count": 3,
     "metadata": {},
     "output_type": "execute_result"
    }
   ],
   "source": [
    "raspi_zk_hosts.drop(columns=supressed_columns)"
   ]
  },
  {
   "cell_type": "code",
   "execution_count": 4,
   "metadata": {},
   "outputs": [
    {
     "data": {
      "text/html": [
       "<div>\n",
       "<style scoped>\n",
       "    .dataframe tbody tr th:only-of-type {\n",
       "        vertical-align: middle;\n",
       "    }\n",
       "\n",
       "    .dataframe tbody tr th {\n",
       "        vertical-align: top;\n",
       "    }\n",
       "\n",
       "    .dataframe thead th {\n",
       "        text-align: right;\n",
       "    }\n",
       "</style>\n",
       "<table border=\"1\" class=\"dataframe\">\n",
       "  <thead>\n",
       "    <tr style=\"text-align: right;\">\n",
       "      <th></th>\n",
       "      <th>hostname</th>\n",
       "      <th>arch</th>\n",
       "      <th>gpu</th>\n",
       "    </tr>\n",
       "  </thead>\n",
       "  <tbody>\n",
       "    <tr>\n",
       "      <th>13</th>\n",
       "      <td>pi-node249</td>\n",
       "      <td>armv7l</td>\n",
       "      <td>0</td>\n",
       "    </tr>\n",
       "    <tr>\n",
       "      <th>14</th>\n",
       "      <td>pi-node250</td>\n",
       "      <td>armv7l</td>\n",
       "      <td>0</td>\n",
       "    </tr>\n",
       "  </tbody>\n",
       "</table>\n",
       "</div>"
      ],
      "text/plain": [
       "      hostname    arch  gpu\n",
       "13  pi-node249  armv7l    0\n",
       "14  pi-node250  armv7l    0"
      ]
     },
     "execution_count": 4,
     "metadata": {},
     "output_type": "execute_result"
    }
   ],
   "source": [
    "raspi_kafka_hosts.drop(columns=supressed_columns)"
   ]
  },
  {
   "cell_type": "markdown",
   "metadata": {},
   "source": [
    "## Clone Repo"
   ]
  },
  {
   "cell_type": "code",
   "execution_count": 5,
   "metadata": {},
   "outputs": [
    {
     "name": "stderr",
     "output_type": "stream",
     "text": [
      "mkdir: cannot create directory '/root/repos': File exists\n",
      "Cloning into 'kafka'...\n"
     ]
    }
   ],
   "source": [
    "%%bash\n",
    "mkdir ~/repos\n",
    "cd ~/repos\n",
    "rm -rf ~/repos/kafka\n",
    "git clone https://github.com/6za/kafka.git"
   ]
  },
  {
   "cell_type": "markdown",
   "metadata": {},
   "source": [
    "## Create host lists"
   ]
  },
  {
   "cell_type": "markdown",
   "metadata": {},
   "source": [
    "### Zookeeper Host List\n",
    "\n",
    "- Zookeeper and all kafka nodes need to be visible to allow brokers to work"
   ]
  },
  {
   "cell_type": "code",
   "execution_count": 6,
   "metadata": {},
   "outputs": [
    {
     "data": {
      "text/plain": [
       "3"
      ]
     },
     "execution_count": 6,
     "metadata": {},
     "output_type": "execute_result"
    }
   ],
   "source": [
    "\n",
    "zk_ip = raspi_zk_hosts.iloc[0]['ip']\n",
    "zk_config = 'zookeeper:%(ip)s' %  {\"ip\": zk_ip}\n",
    "kafka_hosts_list = [zk_config]\n",
    "\n",
    "for index, row in raspi_kafka_hosts.iterrows():\n",
    "        hostname = 'kafka-' + row['hostname']\n",
    "        config = '%(hostname)s:%(ip)s' %  {\"hostname\": hostname, \"ip\": row['ip']}\n",
    "        kafka_hosts_list.append(config)\n",
    "\n",
    "len(kafka_hosts_list)"
   ]
  },
  {
   "cell_type": "markdown",
   "metadata": {},
   "source": [
    "## Deploy Zookeeper\n",
    "\n",
    "- Deploy as is no modification on files"
   ]
  },
  {
   "cell_type": "code",
   "execution_count": 7,
   "metadata": {},
   "outputs": [
    {
     "name": "stdout",
     "output_type": "stream",
     "text": [
      "\u001b[1;35mpi-node251\u001b[0m\n",
      "Zookeeper Started\n"
     ]
    }
   ],
   "source": [
    "for index, row in raspi_zk_hosts.iterrows():\n",
    "    print('\\x1b[1;35m'+ row['hostname']+'\\x1b[0m')\n",
    "    docker_host = 'source /root/common/env.sh && export DOCKER_HOST=\\\"tcp://%(ip)s:2376\\\"' %  {\"ip\": row['ip']}\n",
    "    command = \"docker-compose -f ~/repos/kafka/docker-compose-zk-1node.yaml down\"  \n",
    "    result = subprocess.check_output(\"bash -c \\\"%s && %s  || : \\\" \" %(docker_host,command)  , shell=True, encoding='utf-8')        \n",
    "    command = \"docker-compose -f ~/repos/kafka/docker-compose-zk-1node.yaml up -d --build\"  \n",
    "    result = subprocess.check_output(\"bash -c \\\"%s && %s  || : \\\" \" %(docker_host,command)  , shell=True, encoding='utf-8')        \n",
    "    print(\"Zookeeper Started\")"
   ]
  },
  {
   "cell_type": "markdown",
   "metadata": {},
   "source": [
    "## Deploy Kafka Nodes"
   ]
  },
  {
   "cell_type": "code",
   "execution_count": 9,
   "metadata": {},
   "outputs": [
    {
     "name": "stdout",
     "output_type": "stream",
     "text": [
      "\u001b[1;35mpi-node249\u001b[0m\n",
      "  Kafka started:pi-node249\n",
      "CONTAINER ID        IMAGE                        COMMAND                  CREATED             STATUS              PORTS                    NAMES\n",
      "eddc5d626ce2        12-kafka-cluster_kafka       \"bash -c '/opt/kafka…\"   9 seconds ago       Up 5 seconds        0.0.0.0:9092->9092/tcp   12-kafka-cluster_kafka_1\n",
      "d367b00450b5        prom/node-exporter:v0.18.0   \"/bin/node_exporter …\"   5 days ago          Up 5 days           0.0.0.0:9100->9100/tcp   nodeexporter\n",
      "\n",
      "\u001b[1;35mpi-node250\u001b[0m\n",
      "  Kafka started:pi-node250\n",
      "CONTAINER ID        IMAGE                        COMMAND                  CREATED             STATUS              PORTS                    NAMES\n",
      "8393366e6031        12-kafka-cluster_kafka       \"bash -c '/opt/kafka…\"   8 seconds ago       Up 5 seconds        0.0.0.0:9092->9092/tcp   12-kafka-cluster_kafka_1\n",
      "8ea920efccdf        prom/node-exporter:v0.18.0   \"/bin/node_exporter …\"   5 days ago          Up 5 days           0.0.0.0:9100->9100/tcp   nodeexporter\n",
      "\n"
     ]
    }
   ],
   "source": [
    "!sleep 30\n",
    "node_count = 0\n",
    "with open('/root/repos/kafka/docker-compose-kafka-1node.yaml',\"r\") as file:\n",
    "    # The FullLoader parameter handles the conversion from YAML\n",
    "    # scalar values to Python the dictionary format\n",
    "    config = yaml.load(file, Loader=yaml.FullLoader)\n",
    "    config['services']['kafka']['extra_hosts'] = kafka_hosts_list\n",
    "    for index, row in raspi_kafka_hosts.iterrows():\n",
    "        node_count = node_count + 1\n",
    "        config['services']['kafka']['hostname'] = 'kafka-' + row['hostname']\n",
    "        with open(r'docker-compose-kafka-current.yaml', 'w') as outputfile:\n",
    "            documents = yaml.dump(config, outputfile)    \n",
    "        print('\\x1b[1;35m'+ row['hostname']+'\\x1b[0m')\n",
    "        docker_host = 'source /root/common/env.sh && export DOCKER_HOST=\\\"tcp://%(ip)s:2376\\\"' %  {\"ip\": row['ip']}\n",
    "        command = \"docker-compose -f docker-compose-kafka-current.yaml down\" \n",
    "        result = subprocess.check_output(\"bash -c \\\"%s && %s  || : \\\" \" %(docker_host,command)  , shell=True, encoding='utf-8')        \n",
    "        command = \"docker-compose  -f docker-compose-kafka-current.yaml up -d --build\" \n",
    "        result = subprocess.check_output(\"bash -c \\\"%s && %s  || : \\\" \" %(docker_host,command)  , shell=True, encoding='utf-8')        \n",
    "        print(\"  Kafka started:\" + row['hostname'])\n",
    "        !sleep 5\n",
    "        command = \"docker ps\"  \n",
    "        result = subprocess.check_output(\"bash -c \\\"%s && %s  || : \\\" \" %(docker_host,command)  , shell=True, encoding='utf-8')        \n",
    "        print(result)\n",
    "\n",
    "        \n"
   ]
  }
 ],
 "metadata": {
  "kernelspec": {
   "display_name": "Python 3",
   "language": "python",
   "name": "python3"
  },
  "language_info": {
   "codemirror_mode": {
    "name": "ipython",
    "version": 3
   },
   "file_extension": ".py",
   "mimetype": "text/x-python",
   "name": "python",
   "nbconvert_exporter": "python",
   "pygments_lexer": "ipython3",
   "version": "3.6.9"
  }
 },
 "nbformat": 4,
 "nbformat_minor": 4
}
