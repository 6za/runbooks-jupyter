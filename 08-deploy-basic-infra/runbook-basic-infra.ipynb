{
 "cells": [
  {
   "cell_type": "code",
   "execution_count": 7,
   "metadata": {},
   "outputs": [],
   "source": [
    "import pandas as pd\n",
    "hosts = pd.read_csv(\"../common/hosts.csv\")\n",
    "supressed_columns = ['ip','user']"
   ]
  },
  {
   "cell_type": "code",
   "execution_count": 8,
   "metadata": {},
   "outputs": [
    {
     "data": {
      "text/html": [
       "<div>\n",
       "<style scoped>\n",
       "    .dataframe tbody tr th:only-of-type {\n",
       "        vertical-align: middle;\n",
       "    }\n",
       "\n",
       "    .dataframe tbody tr th {\n",
       "        vertical-align: top;\n",
       "    }\n",
       "\n",
       "    .dataframe thead th {\n",
       "        text-align: right;\n",
       "    }\n",
       "</style>\n",
       "<table border=\"1\" class=\"dataframe\">\n",
       "  <thead>\n",
       "    <tr style=\"text-align: right;\">\n",
       "      <th></th>\n",
       "      <th>hostname</th>\n",
       "      <th>arch</th>\n",
       "      <th>gpu</th>\n",
       "    </tr>\n",
       "  </thead>\n",
       "  <tbody>\n",
       "    <tr>\n",
       "      <th>6</th>\n",
       "      <td>nuc-03</td>\n",
       "      <td>x86_64</td>\n",
       "      <td>0</td>\n",
       "    </tr>\n",
       "  </tbody>\n",
       "</table>\n",
       "</div>"
      ],
      "text/plain": [
       "  hostname    arch  gpu\n",
       "6   nuc-03  x86_64    0"
      ]
     },
     "execution_count": 8,
     "metadata": {},
     "output_type": "execute_result"
    }
   ],
   "source": [
    "consul_hosts = hosts[(hosts.hostname == \"nuc-03\")]\n",
    "consul_hosts['ip'].to_csv(r'consul-ip.txt', header=False, index=None, sep=' ')\n",
    "consul_hosts.drop(columns=supressed_columns)"
   ]
  },
  {
   "cell_type": "code",
   "execution_count": 9,
   "metadata": {},
   "outputs": [
    {
     "name": "stderr",
     "output_type": "stream",
     "text": [
      "mkdir: cannot create directory '/root/repos': File exists\n",
      "Cloning into 'home-mesh-tools'...\n"
     ]
    }
   ],
   "source": [
    "%%bash\n",
    "\n",
    "mkdir ~/repos\n",
    "cd ~/repos\n",
    "rm -rf ~/repos/home-mesh-tools\n",
    "git clone https://github.com/6za/home-mesh-tools.git"
   ]
  },
  {
   "cell_type": "code",
   "execution_count": 10,
   "metadata": {},
   "outputs": [
    {
     "name": "stdout",
     "output_type": "stream",
     "text": [
      "/root/08-deploy-basic-infra\n"
     ]
    }
   ],
   "source": [
    "%%bash\n",
    "export HOME_DIR=$PWD\n",
    "echo $HOME_DIR\n",
    "source ../common/env.sh \n",
    "while read ip; do\n",
    "    cd ~/repos/home-mesh-tools\n",
    "    export DOCKER_HOST=\"tcp://$ip:2376\"\n",
    "    docker-compose -f docker-compose-consul.yaml down 2>/dev/null\n",
    "    docker-compose -f docker-compose-consul.yaml up -d 2>/dev/null\n",
    "done <consul-ip.txt\n",
    "cd $HOME_DIR"
   ]
  },
  {
   "cell_type": "code",
   "execution_count": 15,
   "metadata": {},
   "outputs": [],
   "source": [
    "%%bash\n",
    "echo \"ip|id|image|ports|runnning\" > containers.csv\n",
    "source ../common/env.sh \n",
    "while read ip; do\n",
    "    export DOCKER_HOST=\"tcp://$ip:2376\"\n",
    "    docker ps   --format \"$ip|{{.ID}}|{{.Image}}|{{.Ports}}|{{.RunningFor}}\"  >> containers.csv 2>/dev/null || :\n",
    "done <consul-ip.txt"
   ]
  },
  {
   "cell_type": "code",
   "execution_count": 16,
   "metadata": {},
   "outputs": [
    {
     "data": {
      "text/html": [
       "<div>\n",
       "<style scoped>\n",
       "    .dataframe tbody tr th:only-of-type {\n",
       "        vertical-align: middle;\n",
       "    }\n",
       "\n",
       "    .dataframe tbody tr th {\n",
       "        vertical-align: top;\n",
       "    }\n",
       "\n",
       "    .dataframe thead th {\n",
       "        text-align: right;\n",
       "    }\n",
       "</style>\n",
       "<table border=\"1\" class=\"dataframe\">\n",
       "  <thead>\n",
       "    <tr style=\"text-align: right;\">\n",
       "      <th></th>\n",
       "      <th>id</th>\n",
       "      <th>image</th>\n",
       "      <th>ports</th>\n",
       "      <th>runnning</th>\n",
       "      <th>hostname</th>\n",
       "      <th>arch</th>\n",
       "      <th>gpu</th>\n",
       "    </tr>\n",
       "  </thead>\n",
       "  <tbody>\n",
       "    <tr>\n",
       "      <th>0</th>\n",
       "      <td>dbf4365e5039</td>\n",
       "      <td>6zar/pyspark_docker</td>\n",
       "      <td>0.0.0.0:8888-&gt;8888/tcp</td>\n",
       "      <td>3 days ago</td>\n",
       "      <td>nuc-03</td>\n",
       "      <td>x86_64</td>\n",
       "      <td>0</td>\n",
       "    </tr>\n",
       "    <tr>\n",
       "      <th>1</th>\n",
       "      <td>fe1bee3b22f6</td>\n",
       "      <td>amkay/sensor-exporter</td>\n",
       "      <td>0.0.0.0:9255-&gt;9255/tcp</td>\n",
       "      <td>3 days ago</td>\n",
       "      <td>nuc-03</td>\n",
       "      <td>x86_64</td>\n",
       "      <td>0</td>\n",
       "    </tr>\n",
       "    <tr>\n",
       "      <th>2</th>\n",
       "      <td>f941a7dc93e0</td>\n",
       "      <td>prom/node-exporter:v0.18.0</td>\n",
       "      <td>0.0.0.0:9100-&gt;9100/tcp</td>\n",
       "      <td>3 days ago</td>\n",
       "      <td>nuc-03</td>\n",
       "      <td>x86_64</td>\n",
       "      <td>0</td>\n",
       "    </tr>\n",
       "    <tr>\n",
       "      <th>3</th>\n",
       "      <td>3339d746d6a7</td>\n",
       "      <td>consul:latest</td>\n",
       "      <td>8300-8302/tcp, 8301-8302/udp, 8600/tcp, 8600/u...</td>\n",
       "      <td>3 months ago</td>\n",
       "      <td>nuc-03</td>\n",
       "      <td>x86_64</td>\n",
       "      <td>0</td>\n",
       "    </tr>\n",
       "    <tr>\n",
       "      <th>4</th>\n",
       "      <td>c817dc67b992</td>\n",
       "      <td>nginx</td>\n",
       "      <td>0.0.0.0:80-&gt;80/tcp</td>\n",
       "      <td>3 months ago</td>\n",
       "      <td>nuc-03</td>\n",
       "      <td>x86_64</td>\n",
       "      <td>0</td>\n",
       "    </tr>\n",
       "    <tr>\n",
       "      <th>5</th>\n",
       "      <td>7f7f98f6ac85</td>\n",
       "      <td>couchdb</td>\n",
       "      <td>0.0.0.0:4369-&gt;4369/tcp, 0.0.0.0:5984-&gt;5984/tcp...</td>\n",
       "      <td>3 months ago</td>\n",
       "      <td>nuc-03</td>\n",
       "      <td>x86_64</td>\n",
       "      <td>0</td>\n",
       "    </tr>\n",
       "  </tbody>\n",
       "</table>\n",
       "</div>"
      ],
      "text/plain": [
       "             id                       image  \\\n",
       "0  dbf4365e5039         6zar/pyspark_docker   \n",
       "1  fe1bee3b22f6       amkay/sensor-exporter   \n",
       "2  f941a7dc93e0  prom/node-exporter:v0.18.0   \n",
       "3  3339d746d6a7               consul:latest   \n",
       "4  c817dc67b992                       nginx   \n",
       "5  7f7f98f6ac85                     couchdb   \n",
       "\n",
       "                                               ports      runnning hostname  \\\n",
       "0                             0.0.0.0:8888->8888/tcp    3 days ago   nuc-03   \n",
       "1                             0.0.0.0:9255->9255/tcp    3 days ago   nuc-03   \n",
       "2                             0.0.0.0:9100->9100/tcp    3 days ago   nuc-03   \n",
       "3  8300-8302/tcp, 8301-8302/udp, 8600/tcp, 8600/u...  3 months ago   nuc-03   \n",
       "4                                 0.0.0.0:80->80/tcp  3 months ago   nuc-03   \n",
       "5  0.0.0.0:4369->4369/tcp, 0.0.0.0:5984->5984/tcp...  3 months ago   nuc-03   \n",
       "\n",
       "     arch  gpu  \n",
       "0  x86_64    0  \n",
       "1  x86_64    0  \n",
       "2  x86_64    0  \n",
       "3  x86_64    0  \n",
       "4  x86_64    0  \n",
       "5  x86_64    0  "
      ]
     },
     "execution_count": 16,
     "metadata": {},
     "output_type": "execute_result"
    }
   ],
   "source": [
    "containers = pd.read_csv(\"containers.csv\", sep = '|')\n",
    "pd.merge(containers, hosts, on='ip', how='inner').drop(columns=supressed_columns)"
   ]
  },
  {
   "cell_type": "code",
   "execution_count": 13,
   "metadata": {},
   "outputs": [
    {
     "name": "stdout",
     "output_type": "stream",
     "text": [
      "pi-node1-- Not using raspi-manager\n",
      "pi-node2-- Not using raspi-manager\n",
      "pi-node3-- Not using raspi-manager\n",
      "kx-Lenovo-H520g-- Not using raspi-manager\n",
      "nuc-01-- Not using raspi-manager\n",
      "nuc-02-- Not using raspi-manager\n",
      "nuc-03-- Using raspi-manager consul\n",
      "pi-node4-- Not using raspi-manager\n",
      "pi-node5-- Not using raspi-manager\n",
      "pi-node6-- Not using raspi-manager\n",
      "pi-node7-- Not using raspi-manager\n",
      "pi-node8-- Not using raspi-manager\n",
      "tegra-ubuntu-- Using raspi-manager consul\n"
     ]
    }
   ],
   "source": [
    "import os\n",
    "import subprocess\n",
    "\n",
    "for index, row in hosts.iterrows():\n",
    "    result = subprocess.check_output('ssh -n -o StrictHostKeyChecking=no ' +row['user'] +'@'+row['ip']  +' ps -ef | grep dockerd | grep -v raspi-manager  || :', shell=True, encoding='utf-8')\n",
    "    if( len(result) > 1 ):\n",
    "        print(row['hostname'] + \"-- Using raspi-manager consul\" )\n",
    "    else :\n",
    "        print(row['hostname'] + \"-- Not using raspi-manager\" )"
   ]
  },
  {
   "cell_type": "markdown",
   "metadata": {},
   "source": [
    "`nuc-03` - is the consul, so it can't use as it would point to itself.\n",
    "`tegra-ubuntu` - is Jetson, its docker seems to not support consul parameter for `dockerd`"
   ]
  },
  {
   "cell_type": "code",
   "execution_count": 14,
   "metadata": {},
   "outputs": [
    {
     "name": "stdout",
     "output_type": "stream",
     "text": [
      "pi-node1-- NOK\n",
      "pi-node2-- OK\n",
      "pi-node3-- OK\n",
      "kx-Lenovo-H520g-- OK\n",
      "nuc-01-- OK\n",
      "nuc-02-- OK\n",
      "nuc-03-- OK\n",
      "pi-node4-- OK\n",
      "pi-node5-- OK\n",
      "pi-node6-- NOK\n",
      "pi-node7-- OK\n",
      "pi-node8-- OK\n",
      "tegra-ubuntu-- OK\n"
     ]
    }
   ],
   "source": [
    "for index, row in hosts.iterrows():\n",
    "    result = subprocess.check_output('ssh -n -o StrictHostKeyChecking=no ' +row['user'] +'@'+row['ip']  +' cat /etc/hosts | grep raspi-manager  || :', shell=True, encoding='utf-8')\n",
    "    if( len(result) > 1 ):\n",
    "        print(row['hostname'] + \"-- OK\" )\n",
    "    else :\n",
    "        print(row['hostname'] + \"-- NOK\" )\n",
    "    \n",
    "# sudo echo \"IP  raspi-manager \">> /etc/hosts    \n"
   ]
  },
  {
   "cell_type": "markdown",
   "metadata": {},
   "source": [
    "### Notes\n",
    "\n",
    "On most nodes, the dockerd setup is something like this:\n",
    "\n",
    "\n",
    "```text\n",
    "\n",
    "ExecStart=/usr/bin/dockerd  --cluster-store=consul://raspi-manager:8500  --cluster-advertise=eno1:2376   -H=0.0.0.0:2376 --tlsverify=true --tlscacert=/certs/ca.pem --tlscert=/certs/cert.pem --tlskey=/certs/key.pem  --experimental=true --metrics-addr=\"0.0.0.0:9323\" -H fd:// --containerd=/run/containerd/containerd.sock\n",
    "\n",
    "```\n",
    "\n",
    "Process used to create certs to be used by docker host: https://github.com/paulczar/omgwtfssl"
   ]
  }
 ],
 "metadata": {
  "kernelspec": {
   "display_name": "Python 3",
   "language": "python",
   "name": "python3"
  },
  "language_info": {
   "codemirror_mode": {
    "name": "ipython",
    "version": 3
   },
   "file_extension": ".py",
   "mimetype": "text/x-python",
   "name": "python",
   "nbconvert_exporter": "python",
   "pygments_lexer": "ipython3",
   "version": "3.6.9"
  }
 },
 "nbformat": 4,
 "nbformat_minor": 4
}
