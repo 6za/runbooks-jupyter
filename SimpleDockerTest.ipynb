{
 "cells": [
  {
   "cell_type": "markdown",
   "metadata": {},
   "source": [
    "# Running this notebook\n",
    "\n",
    "\n",
    "```bash \n",
    "docker run -p 0.0.0.0:8888:8888 --name runbooks -i -t --env demo_docker_host=$YOUR_DOCKER_HOST_IP  -v  /home/youruser/DOCKER_runbooks:/root  6zar/pyspark_docker\n",
    "```\n",
    "\n",
    "\n",
    "`YOUR_DOCKER_HOST_IP` is your docker host you want to connect. This setup is using docker with simple https enabled to allow remote access to a docker host. \n",
    "\n",
    "The idea is to show how to remote control docker hosts with simple Jupyter Notebooks and some cool magic. \n",
    "\n",
    "\n",
    "# Sample"
   ]
  },
  {
   "cell_type": "code",
   "execution_count": 14,
   "metadata": {},
   "outputs": [
    {
     "name": "stdout",
     "output_type": "stream",
     "text": [
      "CONTAINER ID        IMAGE                        COMMAND                  CREATED             STATUS              PORTS                                                                      NAMES\n",
      "b8900d70706d        6zar/pyspark_docker          \"/bin/sh -c 'cd /roo���\"   2 minutes ago       Up 2 minutes        0.0.0.0:8888->8888/tcp                                                     runbooks\n",
      "3339d746d6a7        consul:latest                \"docker-entrypoint.s���\"   3 months ago        Up 2 days           8300-8302/tcp, 8301-8302/udp, 8600/tcp, 8600/udp, 0.0.0.0:8500->8500/tcp   consul_dev-consul_1\n",
      "c817dc67b992        nginx                        \"nginx -g 'daemon of���\"   3 months ago        Up 2 days           0.0.0.0:80->80/tcp                                                         nginx\n",
      "7f7f98f6ac85        couchdb                      \"tini -- /docker-ent���\"   3 months ago        Up 2 days           0.0.0.0:4369->4369/tcp, 0.0.0.0:5984->5984/tcp, 0.0.0.0:9101->9100/tcp     cluster-manager_couchdb_1\n",
      "ac250d89bf33        prom/node-exporter:v0.18.0   \"/bin/node_exporter ���\"   5 months ago        Up 2 days           0.0.0.0:9100->9100/tcp                                                     nodeexporter\n",
      "c93355681907        amkay/sensor-exporter        \"/go/bin/sensor-expo���\"   5 months ago        Up 2 days           0.0.0.0:9255->9255/tcp                                                     monitor_tempsensor_1\n"
     ]
    }
   ],
   "source": [
    "%%bash\n",
    "export DOCKER_TLS_VERIFY=\"1\"\n",
    "export DOCKER_CERT_PATH=\"/root/certs\"\n",
    "export DOCKER_HOST=\"tcp://$demo_docker_host:2376\"\n",
    "docker ps "
   ]
  }
 ],
 "metadata": {
  "kernelspec": {
   "display_name": "Python 3",
   "language": "python",
   "name": "python3"
  },
  "language_info": {
   "codemirror_mode": {
    "name": "ipython",
    "version": 3
   },
   "file_extension": ".py",
   "mimetype": "text/x-python",
   "name": "python",
   "nbconvert_exporter": "python",
   "pygments_lexer": "ipython3",
   "version": "3.6.9"
  }
 },
 "nbformat": 4,
 "nbformat_minor": 4
}
